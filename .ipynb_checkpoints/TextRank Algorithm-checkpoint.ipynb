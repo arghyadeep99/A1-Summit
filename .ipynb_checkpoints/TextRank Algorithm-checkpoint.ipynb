{
 "cells": [
  {
   "cell_type": "code",
   "execution_count": 112,
   "metadata": {},
   "outputs": [],
   "source": [
    "import numpy as np\n",
    "import nltk\n",
    "from nltk.corpus import stopwords\n",
    "from nltk.stem import WordNetLemmatizer\n",
    "from nltk.tokenize import sent_tokenize,word_tokenize\n",
    "from bs4 import BeautifulSoup\n",
    "import requests\n",
    "import re"
   ]
  },
  {
   "cell_type": "code",
   "execution_count": 2,
   "metadata": {},
   "outputs": [
    {
     "name": "stderr",
     "output_type": "stream",
     "text": [
      "[nltk_data] Downloading package wordnet to\n",
      "[nltk_data]     /home/arghyadeep99/nltk_data...\n",
      "[nltk_data]   Package wordnet is already up-to-date!\n",
      "[nltk_data] Downloading package punkt to\n",
      "[nltk_data]     /home/arghyadeep99/nltk_data...\n",
      "[nltk_data]   Package punkt is already up-to-date!\n",
      "[nltk_data] Downloading package stopwords to\n",
      "[nltk_data]     /home/arghyadeep99/nltk_data...\n",
      "[nltk_data]   Package stopwords is already up-to-date!\n"
     ]
    },
    {
     "data": {
      "text/plain": [
       "True"
      ]
     },
     "execution_count": 2,
     "metadata": {},
     "output_type": "execute_result"
    }
   ],
   "source": [
    "nltk.download('wordnet')\n",
    "nltk.download('punkt')\n",
    "nltk.download('stopwords')"
   ]
  },
  {
   "cell_type": "code",
   "execution_count": 51,
   "metadata": {},
   "outputs": [],
   "source": [
    "vec_path = './glove.6B/glove.6B.100d.txt'\n",
    "embeddings_file = open(vec_path, 'r')"
   ]
  },
  {
   "cell_type": "code",
   "execution_count": 52,
   "metadata": {},
   "outputs": [],
   "source": [
    "embeddings = dict()\n",
    "\n",
    "for line in embeddings_file:\n",
    "    values = line.split()\n",
    "    word = values[0]\n",
    "    coefs = np.asarray(values[1:], dtype='float64')\n",
    "    embeddings[word] = coefs"
   ]
  },
  {
   "cell_type": "code",
   "execution_count": 53,
   "metadata": {},
   "outputs": [],
   "source": [
    "paragraph = \"Subhas Chandra Bose was an Indian nationalist whose defiant patriotism made him a hero in India, but whose attempt during World War II to rid India of British rule with the help of Nazi Germany and Imperial Japan left a troubled legacy. The honorific Netaji , first applied in early 1942 to Bose in Germany by the Indian soldiers of the Indische Legion and by the German and Indian officials in the Special Bureau for India in Berlin, was later used throughout India. Bose had been a leader of the younger, radical, wing of the Indian National Congress in the late 1920s and 1930s, rising to become Congress President in 1938 and 1939. However, he was ousted from Congress leadership positions in 1939 following differences with Mahatma Gandhi and the Congress high command. He was subsequently placed under house arrest by the British before escaping from India in 1940. A 3,000-strong Free India Legion, comprising Indians captured by Erwin Rommel's Afrika Korps, was also formed to aid in a possible future German land invasion of India. By spring 1942, in light of Japanese victories in southeast Asia and changing German priorities, a German invasion of India became untenable, and Bose became keen to move to southeast Asia. Adolf Hitler, during his only meeting with Bose in late May 1942, suggested the same, and offered to arrange for a submarine. During this time Bose also became a father; his wife, or companion, Emilie Schenkl, whom he had met in 1934, gave birth to a baby girl in November 1942. Identifying strongly with the Axis powers, and no longer apologetically, Bose boarded a German submarine in February 1943. Off Madagascar, he was transferred to a Japanese submarine from which he disembarked in Japanese-held Sumatra in May 1943. Before long the Provisional Government of Free India, presided by Bose, was formed in the Japanese-occupied Andaman and Nicobar Islands. Bose had great drive and charisma—using popular Indian slogans, such as \\\"Jai Hind,\\\"—and the INA under Bose was a model of diversity by region, ethnicity, religion, and even gender. names of the two highest-ranking Indians in the councils of the British-Indian establishment, Lord Sinha of Raipur, Under Secretary of State for India and the first Indian to serve as governor of a province under the Raj, and Mr Bhupendranath Basu, a wealthy Calcutta solicitor and a member of the Council of India in London.\\\" Bose was eager to gain admission to a college at the University of Cambridge. However, it was already past the deadline for admission. With the help of some Indian students there and Mr. Reddaway, the Censor of Fitzwilliam Hall, a body run by the Non-Collegiate Students Board of the university, for making available the university\\'s education at an economical cost without formal admission to a college, Bose entered the register of the university on 19 November 1919. He chose the Mental and Moral Sciences Tripos and simultaneously set about preparing for the Civil Service exams. On 22 June 1939 Bose organised the All India Forward Bloc a faction within the Indian National Congress, aimed at consolidating the political left, but its main strength was in his home state, Bengal. In Germany, he was attached to the Special Bureau for India under Adam von Trott zu Solz which was responsible for broadcasting on the German-sponsored Azad Hind Radio. He founded the Free India Center in Berlin, and created the Indian Legion out of Indian prisoners of war who had previously fought for the British in North Africa prior to their capture by Axis forces. Spoken as a part of a motivational speech for the Indian National Army at a rally of Indians in Burma on 4 July 1944, Bose\\'s most famous quote was \\\"Give me blood, and I shall give you freedom!\\\" In this, he urged the people of India to join him in his fight against the British Raj. Spoken in Hindi, Bose's words are highly evocative. The troops of the INA were under the aegis of a provisional government, the Azad Hind Government, which came to produce its own currency, postage stamps, court and civil code, and was recognised by nine Axis states – Germany, Japan, Italian Social Republic, the Independent State of Croatia, Wang Jingwei regime in Nanjing, China, a provisional government of Burma, Manchukuo and Japanese-controlled Philippines. This attempt at conquering the Indian mainland had the Axis codename of Operation U-Go. During this operation, On 6 July 1944, in a speech broadcast by the Azad Hind Radio from Singapore, Bose addressed Mahatma Gandhi as the \\\"Father of the Nation\\\" and asked for his blessings and good wishes for the war he was fighting. Most affected were the young Tamil Indians from Malaya and Singapore, both men and women, who comprised the bulk of the civilians who had enlisted in the INA. The professional soldiers in the INA, most of whom were Punjabis, faced an uncertain future, with many fatalistically expecting reprisals from the British. In India the Indian National Congress\\'s official line was succinctly expressed in a letter Mohandas Karamchand Gandhi wrote to Rajkumari Amrit Kaur. Said Gandhi, \\\"Subhas Bose has died well. \\\"Netaji Subhash Chandra Bose in order to free India from the shackles of British imperialism organized the Azad Hind Government from outside the country on October 21, 1943. Netaji set up the Provisional Government of Independent India and transferred its headquarter at Rangoon on January 7, 1944. At the outset of the war, he left India, travelling to the Soviet Union, Nazi Germany and Imperial Japan, seeking an alliance with each of them to attack the British government in India. With Imperial Japanese assistance, he re-organised and later led the Azad Hind Fauj or Indian National Army , formed with Indian prisoners-of-war and plantation workers from British Malaya, Singapore, and other parts of Southeast Asia, against British forces.\""
   ]
  },
  {
   "cell_type": "code",
   "execution_count": 98,
   "metadata": {},
   "outputs": [],
   "source": [
    "def average_vector(sentence):\n",
    "    words = sentence.split()\n",
    "    size = len(words)\n",
    "    average_vector = np.zeros((size,100))\n",
    "    unknown_words=[]\n",
    "\n",
    "    for index, word in enumerate(words):\n",
    "        try:\n",
    "            average_vector[index] = embeddings[word].reshape(1,-1)\n",
    "        except Exception as e:\n",
    "            unknown_words.append(word)\n",
    "            average_vector[index] = 0\n",
    "\n",
    "    if size != 0:\n",
    "        average_vector = sum(average_vector)/size\n",
    "    return average_vector,unknown_words"
   ]
  },
  {
   "cell_type": "code",
   "execution_count": 99,
   "metadata": {},
   "outputs": [],
   "source": [
    "def cosine_similarity(s1, s2):\n",
    "    v1, _ = average_vector(s1)\n",
    "    v2, _ = average_vector(s2)\n",
    "    cos_sim = 0\n",
    "    try:\n",
    "        cos_sim = (np.dot(v1,v2)/(np.linalg.norm(v1)*np.linalg.norm(v2)))\n",
    "    except Exception as e :\n",
    "        pass\n",
    "    return cos_sim"
   ]
  },
  {
   "cell_type": "code",
   "execution_count": 100,
   "metadata": {},
   "outputs": [
    {
     "data": {
      "text/plain": [
       "0.8509454489891919"
      ]
     },
     "execution_count": 100,
     "metadata": {},
     "output_type": "execute_result"
    }
   ],
   "source": [
    "cosine_similarity(\"hey there\", \"hey man\")"
   ]
  },
  {
   "cell_type": "code",
   "execution_count": 101,
   "metadata": {},
   "outputs": [],
   "source": [
    "def clean(sentence):\n",
    "    lem = WordNetLemmatizer()\n",
    "    sentence = sentence.lower()\n",
    "    sentence = re.sub(r'http\\S+',' ',sentence)\n",
    "    sentence = re.sub(r'[^a-zA-Z]',' ',sentence)\n",
    "    sentence = sentence.split()\n",
    "    sentence = [lem.lemmatize(word) for word in sentence if word not in stopwords.words('english')]\n",
    "    sentence = ' '.join(sentence)\n",
    "    return sentence"
   ]
  },
  {
   "cell_type": "code",
   "execution_count": 102,
   "metadata": {},
   "outputs": [],
   "source": [
    "sentences = sent_tokenize(paragraph)\n",
    "cleaned_sentences=[]\n",
    "for sentence in sentences:\n",
    "    cleaned_sentences.append(clean(sentence))\n",
    "similarity_matrix = np.zeros((len(cleaned_sentences),len(cleaned_sentences)))\n",
    "\n",
    "for i in range(0,len(cleaned_sentences)):\n",
    "    for j in range(0,len(cleaned_sentences)):\n",
    "        if type(cosine_similarity(cleaned_sentences[i],cleaned_sentences[j])) == np.float64 :\n",
    "            #print(cosine_similarity(cleaned_sentences[i],cleaned_sentences[j]))\n",
    "            similarity_matrix[i,j] = cosine_similarity(cleaned_sentences[i],cleaned_sentences[j])"
   ]
  },
  {
   "cell_type": "code",
   "execution_count": 103,
   "metadata": {},
   "outputs": [
    {
     "data": {
      "text/plain": [
       "array([[1.        , 0.89669605, 0.86672357, ..., 0.76367769, 0.93789143,\n",
       "        0.880728  ],\n",
       "       [0.89669605, 1.        , 0.81797652, ..., 0.83477938, 0.88975919,\n",
       "        0.90670369],\n",
       "       [0.86672357, 0.81797652, 1.        , ..., 0.75647581, 0.81650643,\n",
       "        0.83164471],\n",
       "       ...,\n",
       "       [0.76367769, 0.83477938, 0.75647581, ..., 1.        , 0.79897803,\n",
       "        0.8265946 ],\n",
       "       [0.93789143, 0.88975919, 0.81650643, ..., 0.79897803, 1.        ,\n",
       "        0.90942292],\n",
       "       [0.880728  , 0.90670369, 0.83164471, ..., 0.8265946 , 0.90942292,\n",
       "        1.        ]])"
      ]
     },
     "execution_count": 103,
     "metadata": {},
     "output_type": "execute_result"
    }
   ],
   "source": [
    "similarity_matrix"
   ]
  },
  {
   "cell_type": "code",
   "execution_count": 78,
   "metadata": {},
   "outputs": [],
   "source": [
    "class Graph:\n",
    "  \n",
    "    def __init__(self,graph_dictionary):\n",
    "        if not graph_dictionary:\n",
    "            graph_dictionary={}\n",
    "        self.graph_dictionary = graph_dictionary\n",
    "\n",
    "    def vertices(self):\n",
    "        return self.graph_dictionary.keys()\n",
    "\n",
    "    def edges(self):\n",
    "        return self.generate_edges()\n",
    "\n",
    "    def add_vertex(self,vertex):\n",
    "        if vertex not in graph_dictionary.keys():\n",
    "            graph_dictionary[vertex] = []\n",
    "\n",
    "    def add_edge(self,edge):\n",
    "        vertex1,vertex2 = tuple(set(edge))\n",
    "        if vertex1 in graph_dictionary.keys():\n",
    "            graph_dictionary[vertex1].append(vertex2)\n",
    "        else:\n",
    "            graph_dictionary[vertex1] = [vertex2]\n",
    "\n",
    "    def generate_edges(self):\n",
    "        edges = set()\n",
    "        for vertex in graph_dictionary.keys():\n",
    "            for edges in graph_dictionary[vertex]:\n",
    "                edges.add([vertex,edge])\n",
    "        return list(edges)"
   ]
  },
  {
   "cell_type": "code",
   "execution_count": 79,
   "metadata": {},
   "outputs": [],
   "source": [
    "similarity_threshold = 0.70\n",
    "network_dictionary = {}\n",
    "\n",
    "for i in range(len(cleaned_sentences)):\n",
    "    network_dictionary[i] = []  \n",
    "\n",
    "for i in range(len(cleaned_sentences)):\n",
    "    for j in range(len(cleaned_sentences)):\n",
    "        if similarity_matrix[i][j] > similarity_threshold:\n",
    "            if j not in network_dictionary[i]:\n",
    "                network_dictionary[i].append(j)\n",
    "            if i not in network_dictionary[j]:\n",
    "                network_dictionary[j].append(i)"
   ]
  },
  {
   "cell_type": "code",
   "execution_count": 81,
   "metadata": {},
   "outputs": [],
   "source": [
    "graph = Graph(network_dictionary)"
   ]
  },
  {
   "cell_type": "code",
   "execution_count": 87,
   "metadata": {},
   "outputs": [],
   "source": [
    "def page_rank(graph,iterations = 50,sentences=20):\n",
    "    ranks = []\n",
    "    # ranks = {}\n",
    "    network = graph.graph_dictionary\n",
    "    current_ranks = np.squeeze(np.zeros((1,len(cleaned_sentences))))\n",
    "    prev_ranks = np.array([1/len(cleaned_sentences)]*len(cleaned_sentences))\n",
    "    for iteration in range(0,iterations):\n",
    "        for i in range(0,len(list(network.keys()))):\n",
    "            current_score = 0\n",
    "            adjacent_vertices = network[list(network.keys())[i]]\n",
    "            for vertex in adjacent_vertices:\n",
    "                current_score += prev_ranks[vertex]/len(network[vertex])\n",
    "            current_ranks[i] = current_score\n",
    "    prev_ranks = current_ranks\n",
    "\n",
    "    for index in range(len(cleaned_sentences)):\n",
    "      # ranks[index] = prev_ranks[index]\n",
    "        if prev_ranks[index]: \n",
    "            ranks.append((index,prev_ranks[index]))\n",
    "    # ranks = {index:rank for index,rank in sorted(ranks.items(),key=ranks.get,reverse=True)}[:sentences]\n",
    "    ranks = sorted(ranks,key = lambda x:x[1],reverse=True)[:sentences]\n",
    "\n",
    "    return ranks\n",
    "\n",
    "ranks = page_rank(graph,iterations=1000, sentences=10)"
   ]
  },
  {
   "cell_type": "code",
   "execution_count": 88,
   "metadata": {},
   "outputs": [],
   "source": [
    "summary = \"\"\n",
    "for index,rank in ranks:\n",
    "    summary+=sentences[index]+\" \""
   ]
  },
  {
   "cell_type": "code",
   "execution_count": 89,
   "metadata": {},
   "outputs": [
    {
     "data": {
      "text/plain": [
       "'Subhas Chandra Bose was an Indian nationalist whose defiant patriotism made him a hero in India, but whose attempt during World War II to rid India of British rule with the help of Nazi Germany and Imperial Japan left a troubled legacy. During this operation, On 6 July 1944, in a speech broadcast by the Azad Hind Radio from Singapore, Bose addressed Mahatma Gandhi as the \"Father of the Nation\" and asked for his blessings and good wishes for the war he was fighting. With the help of some Indian students there and Mr. Reddaway, the Censor of Fitzwilliam Hall, a body run by the Non-Collegiate Students Board of the university, for making available the university\\'s education at an economical cost without formal admission to a college, Bose entered the register of the university on 19 November 1919. The honorific Netaji , first applied in early 1942 to Bose in Germany by the Indian soldiers of the Indische Legion and by the German and Indian officials in the Special Bureau for India in Berlin, was later used throughout India. He founded the Free India Center in Berlin, and created the Indian Legion out of Indian prisoners of war who had previously fought for the British in North Africa prior to their capture by Axis forces. Bose had been a leader of the younger, radical, wing of the Indian National Congress in the late 1920s and 1930s, rising to become Congress President in 1938 and 1939. Spoken as a part of a motivational speech for the Indian National Army at a rally of Indians in Burma on 4 July 1944, Bose\\'s most famous quote was \"Give me blood, and I shall give you freedom!\" On 22 June 1939 Bose organised the All India Forward Bloc a faction within the Indian National Congress, aimed at consolidating the political left, but its main strength was in his home state, Bengal. He was subsequently placed under house arrest by the British before escaping from India in 1940. With Imperial Japanese assistance, he re-organised and later led the Azad Hind Fauj or Indian National Army , formed with Indian prisoners-of-war and plantation workers from British Malaya, Singapore, and other parts of Southeast Asia, against British forces. '"
      ]
     },
     "execution_count": 89,
     "metadata": {},
     "output_type": "execute_result"
    }
   ],
   "source": [
    "summary"
   ]
  },
  {
   "cell_type": "code",
   "execution_count": 90,
   "metadata": {},
   "outputs": [
    {
     "name": "stdout",
     "output_type": "stream",
     "text": [
      "Subhas Chandra Bose was an Indian nationalist whose defiant patriotism made him a hero in India, but whose attempt during World War II to rid India of British rule with the help of Nazi Germany and Imperial Japan left a troubled legacy. The honorific Netaji , first applied in early 1942 to Bose in Germany by the Indian soldiers of the Indische Legion and by the German and Indian officials in the Special Bureau for India in Berlin, was later used throughout India. Bose had been a leader of the younger, radical, wing of the Indian National Congress in the late 1920s and 1930s, rising to become Congress President in 1938 and 1939. However, he was ousted from Congress leadership positions in 1939 following differences with Mahatma Gandhi and the Congress high command. He was subsequently placed under house arrest by the British before escaping from India in 1940. A 3,000-strong Free India Legion, comprising Indians captured by Erwin Rommel's Afrika Korps, was also formed to aid in a possible future German land invasion of India. By spring 1942, in light of Japanese victories in southeast Asia and changing German priorities, a German invasion of India became untenable, and Bose became keen to move to southeast Asia. Adolf Hitler, during his only meeting with Bose in late May 1942, suggested the same, and offered to arrange for a submarine. During this time Bose also became a father; his wife, or companion, Emilie Schenkl, whom he had met in 1934, gave birth to a baby girl in November 1942. Identifying strongly with the Axis powers, and no longer apologetically, Bose boarded a German submarine in February 1943. Off Madagascar, he was transferred to a Japanese submarine from which he disembarked in Japanese-held Sumatra in May 1943. Before long the Provisional Government of Free India, presided by Bose, was formed in the Japanese-occupied Andaman and Nicobar Islands. Bose had great drive and charisma—using popular Indian slogans, such as \"Jai Hind,\"—and the INA under Bose was a model of diversity by region, ethnicity, religion, and even gender. names of the two highest-ranking Indians in the councils of the British-Indian establishment, Lord Sinha of Raipur, Under Secretary of State for India and the first Indian to serve as governor of a province under the Raj, and Mr Bhupendranath Basu, a wealthy Calcutta solicitor and a member of the Council of India in London.\" Bose was eager to gain admission to a college at the University of Cambridge. However, it was already past the deadline for admission. With the help of some Indian students there and Mr. Reddaway, the Censor of Fitzwilliam Hall, a body run by the Non-Collegiate Students Board of the university, for making available the university's education at an economical cost without formal admission to a college, Bose entered the register of the university on 19 November 1919. He chose the Mental and Moral Sciences Tripos and simultaneously set about preparing for the Civil Service exams. On 22 June 1939 Bose organised the All India Forward Bloc a faction within the Indian National Congress, aimed at consolidating the political left, but its main strength was in his home state, Bengal. In Germany, he was attached to the Special Bureau for India under Adam von Trott zu Solz which was responsible for broadcasting on the German-sponsored Azad Hind Radio. He founded the Free India Center in Berlin, and created the Indian Legion out of Indian prisoners of war who had previously fought for the British in North Africa prior to their capture by Axis forces. Spoken as a part of a motivational speech for the Indian National Army at a rally of Indians in Burma on 4 July 1944, Bose's most famous quote was \"Give me blood, and I shall give you freedom!\" In this, he urged the people of India to join him in his fight against the British Raj. Spoken in Hindi, Bose's words are highly evocative. The troops of the INA were under the aegis of a provisional government, the Azad Hind Government, which came to produce its own currency, postage stamps, court and civil code, and was recognised by nine Axis states – Germany, Japan, Italian Social Republic, the Independent State of Croatia, Wang Jingwei regime in Nanjing, China, a provisional government of Burma, Manchukuo and Japanese-controlled Philippines. This attempt at conquering the Indian mainland had the Axis codename of Operation U-Go. During this operation, On 6 July 1944, in a speech broadcast by the Azad Hind Radio from Singapore, Bose addressed Mahatma Gandhi as the \"Father of the Nation\" and asked for his blessings and good wishes for the war he was fighting. Most affected were the young Tamil Indians from Malaya and Singapore, both men and women, who comprised the bulk of the civilians who had enlisted in the INA. The professional soldiers in the INA, most of whom were Punjabis, faced an uncertain future, with many fatalistically expecting reprisals from the British. In India the Indian National Congress's official line was succinctly expressed in a letter Mohandas Karamchand Gandhi wrote to Rajkumari Amrit Kaur. Said Gandhi, \"Subhas Bose has died well. \"Netaji Subhash Chandra Bose in order to free India from the shackles of British imperialism organized the Azad Hind Government from outside the country on October 21, 1943. Netaji set up the Provisional Government of Independent India and transferred its headquarter at Rangoon on January 7, 1944. At the outset of the war, he left India, travelling to the Soviet Union, Nazi Germany and Imperial Japan, seeking an alliance with each of them to attack the British government in India. With Imperial Japanese assistance, he re-organised and later led the Azad Hind Fauj or Indian National Army , formed with Indian prisoners-of-war and plantation workers from British Malaya, Singapore, and other parts of Southeast Asia, against British forces.\n"
     ]
    }
   ],
   "source": [
    "print(paragraph)"
   ]
  },
  {
   "cell_type": "code",
   "execution_count": 93,
   "metadata": {},
   "outputs": [
    {
     "name": "stdout",
     "output_type": "stream",
     "text": [
      "973 11\n"
     ]
    }
   ],
   "source": [
    "print(len(paragraph.split()), len(summary.split('.')))"
   ]
  },
  {
   "cell_type": "code",
   "execution_count": 119,
   "metadata": {},
   "outputs": [],
   "source": [
    "def textrank_summarise(paragraph, no_of_sentences):\n",
    "    \n",
    "    sentences = sent_tokenize(paragraph)\n",
    "    cleaned_sentences=[]\n",
    "    for sentence in sentences:\n",
    "        cleaned_sentences.append(clean(sentence))\n",
    "    similarity_matrix = np.zeros((len(cleaned_sentences),len(cleaned_sentences)))\n",
    "\n",
    "    for i in range(0,len(cleaned_sentences)):\n",
    "        for j in range(0,len(cleaned_sentences)):\n",
    "            if type(cosine_similarity(cleaned_sentences[i],cleaned_sentences[j])) == np.float64 :\n",
    "                similarity_matrix[i,j] = cosine_similarity(cleaned_sentences[i],cleaned_sentences[j])\n",
    "                \n",
    "    similarity_threshold = 0.70\n",
    "    network_dictionary = {}\n",
    "\n",
    "    for i in range(len(cleaned_sentences)):\n",
    "        network_dictionary[i] = []  \n",
    "\n",
    "    for i in range(len(cleaned_sentences)):\n",
    "        for j in range(len(cleaned_sentences)):\n",
    "            if similarity_matrix[i][j] > similarity_threshold:\n",
    "                if j not in network_dictionary[i]:\n",
    "                    network_dictionary[i].append(j)\n",
    "                if i not in network_dictionary[j]:\n",
    "                    network_dictionary[j].append(i)\n",
    "    \n",
    "    graph = Graph(network_dictionary)\n",
    "    \n",
    "    ranks = page_rank(graph,iterations=500, sentences=no_of_sentences)\n",
    "    \n",
    "    summary = \"\"\n",
    "    ranks_sum = []\n",
    "    for index,rank in ranks:\n",
    "    \n",
    "        summary += sentences[index] + \" \"\n",
    "        ranks_sum.append(rank)\n",
    "    \n",
    "    summary = summary.strip()\n",
    "    \n",
    "    return summary, ranks_sum"
   ]
  },
  {
   "cell_type": "code",
   "execution_count": 121,
   "metadata": {},
   "outputs": [
    {
     "data": {
      "text/plain": [
       "('Keeping with his practice of spending time with soldiers on Diwali, Prime Minister Narendra Modi on Saturday addressed troops at Longewala Post in which he asserted that India will give “prachand jawab” (fierce reply) if it is provoked. Mr. Modi said, without naming any country, that the entire world feels troubled by “expansionist” forces and expansionism shows a “distorted mindset” which belongs to 18th century. “India believes in policy of understanding others and making them understand but if an attempt to test it is made, then the country will give a fierce reply,” he asserted. “No force in the world can prevent our soldiers from protecting our borders,” he said, adding that India has shown that it has strength and the political will to give a befitting reply to those challenging it. “The world now knows that India will not compromise with its interests even one bit,” he said.',\n",
       " [0.029340659340659346,\n",
       "  0.029340659340659346,\n",
       "  0.029340659340659346,\n",
       "  0.029340659340659346,\n",
       "  0.029340659340659346])"
      ]
     },
     "execution_count": 121,
     "metadata": {},
     "output_type": "execute_result"
    }
   ],
   "source": [
    "par = \"Keeping with his practice of spending time with soldiers on Diwali, Prime Minister Narendra Modi on Saturday addressed troops at Longewala Post in which he asserted that India will give “prachand jawab” (fierce reply) if it is provoked. Mr. Modi said, without naming any country, that the entire world feels troubled by “expansionist” forces and expansionism shows a “distorted mindset” which belongs to 18th century. “India believes in policy of understanding others and making them understand but if an attempt to test it is made, then the country will give a fierce reply,” he asserted. His message comes amid the continuing standoff with China at Ladakh border. “No force in the world can prevent our soldiers from protecting our borders,” he said, adding that India has shown that it has strength and the political will to give a befitting reply to those challenging it. “The world now knows that India will not compromise with its interests even one bit,” he said. Also read | Adversaries may take advantage if we do not have strong armed forces: Gen. Bipin Rawat Referring to his custom of celebrating Diwali with soldiers since he assumed office in 2014, Mr. Modi said his resolve to serve and protect the country becomes stronger by spending more time with them. He also urged troops to innovate, practise yoga and learn an Indian language they don’t know from colleagues. On the occasion, he recalled the fierce fight the post had witnessed in the 1971 war against Pakistan and paid tributes to Brig Kuldeep Singh Chandpuri, a hero of the battle, saying he became “rashtra deep” with his feat of bravery. The war was also an example of exemplary coordination among Army, Navy and Air Force, he said. India had defeated Pakistan in the war, leading to the independence of Bangladesh. Keeping with his practice of spending time with soldiers on Diwali, Prime Minister Narendra Modi on Saturday addressed troops at Longewala Post in which he asserted that India will give “prachand jawab” if it is provoked. Mr. Modi said, without naming any country, that the entire world feels troubled by “expansionist” forces and expansionism shows a “distorted mindset” which belongs to 18th century. “India believes in policy of understanding others and making them understand but if an attempt to test it is made, then the country will give a fierce reply,” he asserted. “No force in the world can prevent our soldiers from protecting our borders,” he said, adding that India has shown that it has strength and the political will to give a befitting reply to those challenging it. “The world now knows that India will not compromise with its interests even one bit,” he said.\"\n",
    "textrank_summarise(par, 5)"
   ]
  },
  {
   "cell_type": "code",
   "execution_count": null,
   "metadata": {},
   "outputs": [],
   "source": []
  }
 ],
 "metadata": {
  "kernelspec": {
   "display_name": "Python 3",
   "language": "python",
   "name": "python3"
  },
  "language_info": {
   "codemirror_mode": {
    "name": "ipython",
    "version": 3
   },
   "file_extension": ".py",
   "mimetype": "text/x-python",
   "name": "python",
   "nbconvert_exporter": "python",
   "pygments_lexer": "ipython3",
   "version": "3.8.5"
  }
 },
 "nbformat": 4,
 "nbformat_minor": 4
}
